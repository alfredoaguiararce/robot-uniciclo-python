{
  "nbformat": 4,
  "nbformat_minor": 0,
  "metadata": {
    "colab": {
      "name": "modelo_uniciclo.ipynb",
      "provenance": [],
      "collapsed_sections": [],
      "authorship_tag": "ABX9TyO+sFaA+i4b42Hh3vl50r0Y",
      "include_colab_link": true
    },
    "kernelspec": {
      "name": "python3",
      "display_name": "Python 3"
    },
    "language_info": {
      "name": "python"
    }
  },
  "cells": [
    {
      "cell_type": "markdown",
      "metadata": {
        "id": "view-in-github",
        "colab_type": "text"
      },
      "source": [
        "<a href=\"https://colab.research.google.com/github/alfredoaguiararce/robot-uniciclo-python/blob/main/modelo_uniciclo.ipynb\" target=\"_parent\"><img src=\"https://colab.research.google.com/assets/colab-badge.svg\" alt=\"Open In Colab\"/></a>"
      ]
    },
    {
      "cell_type": "markdown",
      "metadata": {
        "id": "LF1p9yiOIUzO"
      },
      "source": [
        "## Robot movil (tipo uniciclo)"
      ]
    },
    {
      "cell_type": "markdown",
      "metadata": {
        "id": "21ypwKx1hxKj"
      },
      "source": [
        "## Analisis matematico\n",
        "\n",
        "En este primer apartado se realiza la implementacion de las formulas en el apartado <em>IV Aplication: A) Electrically Driven Nonholonomic Mobile Robot</em>.\n",
        "\n",
        "1. Agregamos las librerias necesarias para el analisis matematico."
      ]
    },
    {
      "cell_type": "code",
      "metadata": {
        "id": "-C_-hYT9g-pT"
      },
      "source": [
        "import numpy as np  #Facilita el manejo de matrices en Python.\n",
        "import math         #Agregar las funciones trigonometricas a Python.\n",
        "import matplotlib.pyplot as plt #Agregar libreria para realizar graficas."
      ],
      "execution_count": 1,
      "outputs": []
    },
    {
      "cell_type": "markdown",
      "metadata": {
        "id": "NDDfnOabIlsu"
      },
      "source": [
        "2. Definimos algunas funciones que nos permitan no escribir tanto codigo , las funciones implementadas aqui por lo general son segmentos de codigo que se repetian mucho en el codigo, esta es una optimizacion."
      ]
    },
    {
      "cell_type": "code",
      "metadata": {
        "id": "tA0g6MLDh2pj"
      },
      "source": [
        "def diag(a11, a22):\n",
        "  \"\"\"\n",
        "    Esta funcion regresa una matriz diagonal.\n",
        "    La matriz se define como :\n",
        "    [a11 0]\n",
        "    [0 a22]\n",
        "  \"\"\"\n",
        "  return np.array([[2.5, 0], [0, 2.5]])\n",
        "\n",
        "def scope(data, x_label = 'x_label', y_label = 'y_label'):\n",
        "  \"\"\"\n",
        "    Esta funcion regresa una grafica sencilla de los datos enviados a travez de 'data'\n",
        "    por lo tanto data = a un areglo.\n",
        "    Repreesenta una funcion similar al bloque scope.\n",
        "  \"\"\"\n",
        "  plt.plot(data)\n",
        "  plt.xlabel(x_label)\n",
        "  plt.ylabel(y_label)\n",
        "  return plt\n",
        "\n",
        "def graph_xy(data_x, data_y, x_label = 'x_label', y_label = 'y_label', subtitle = 'subtitle'):\n",
        "  \"\"\"\n",
        "    Esta funcion muestra una grafica sencilla en el plano cartesiano XY\n",
        "  \"\"\"\n",
        "  plt.plot(data_x, data_y)\n",
        "  plt.xlabel(x_label)\n",
        "  plt.ylabel(y_label)\n",
        "  plt.suptitle('Posiciones de subsitema X1 matriz Jacobiana Jx1')\n",
        "  return plt"
      ],
      "execution_count": 2,
      "outputs": []
    },
    {
      "cell_type": "code",
      "metadata": {
        "id": "m4d_u3JyhKty"
      },
      "source": [
        "#Ejemplo implementacion de la funcion diag\n",
        "ejem_1 = diag(2.5,2.5)\n",
        "#Imprimimos valor e informacion\n",
        "ejem_1?"
      ],
      "execution_count": 3,
      "outputs": []
    },
    {
      "cell_type": "markdown",
      "metadata": {
        "id": "HwlFV0YkJqFI"
      },
      "source": [
        "3. Definicion de variables del sistema"
      ]
    },
    {
      "cell_type": "code",
      "metadata": {
        "id": "781EN-m16Z4D"
      },
      "source": [
        "#Constantes iniciales\n",
        "#La mitad del ancho del robot mobil.\n",
        "R = 0.75\n",
        "#La distancia del centro de Pc del robot mobil a la mitad del punto medio de P0 en medio de las ruedas izquierda y derecha.\n",
        "d = 0.3\n",
        "#Radio de la rueda.\n",
        "r = 0.15\n",
        "#Masa del cuerpo.\n",
        "mc = 30\n",
        "#Masa de la rueda con motor.\n",
        "mw = 1\n",
        "#Ic,Iw,Im son los momentos de inercia del cuerpo sobre el eje vertical a traves de Pc.\n",
        "Ic = 15.625\n",
        "Iw = 0.005\n",
        "Im = 0.0025\n",
        "#Resistencia.\n",
        "Ra = diag(2.5,2.5)\n",
        "#Inductancia.\n",
        "La = diag(0.048,0.048)\n",
        "#Coeficiente de fuera electromotriz trasero.\n",
        "KE = diag(0.02,0.02)\n",
        "#Relacion de transmision.\n",
        "N = diag(62.55,62.55)\n",
        "#Constante de torque del motor.\n",
        "KT = diag(0.2613,0.2613)\n",
        "#dm1, dm2 son los coeficientes de amortiguamiento.\n",
        "dm1 = 0.5\n",
        "dm2 = dm1\n",
        "D = diag(dm1, dm2)\n",
        "\n",
        "# Constantes productos de otras constantes%%%%%%%%%%%%%%%%%%%%\n",
        "m = mc + (2 * mw)\n",
        "I = (mc * (d ** 2)) + (2 * mw * (R**2)) + Ic + (2*Im)\n",
        "m11 = 0.25 * ( R ** -2 ) * (r ** 2) * ((m * (R ** 2)) + I) + Iw\n",
        "m12 = 0.25 * ( R ** -2 ) * (r ** 2) * ((m * (R ** 2)) - I)\n",
        "M = np.array([[m11, m12], [m12, m11]])"
      ],
      "execution_count": 4,
      "outputs": []
    },
    {
      "cell_type": "markdown",
      "metadata": {
        "id": "MbpTjKxxjWX5"
      },
      "source": [
        "### Configuracion de muestreo\n",
        "\n",
        "En este apartado se configuran las variables para realizar la simulacion donde:\n",
        "\n",
        "* tf =  El tiempo total en segundos que dura la simulacion.\n",
        "* ts = Es el muestreo, o el tiempo en segundos que durara 1 muestra.\n",
        "* N = El total de muestras existentes de valor ts a lo largo del tiempo tf.\n",
        "* t = Es un arreglo de tiempo que contiene los segundos para n-esima muestra \n",
        "\n",
        "<em>Ejemplo de como se encuentra formado 't'\n",
        "\n",
        "Para : \n",
        "* tf = 180\n",
        "* ts = 0.2 </em>\n",
        "* Por lo tanto numero de muestras = (180 / 0.2) = 900 \n",
        "\n",
        "\n",
        "| No de muestra     | segundos (s) |\n",
        "| -----------       | ----------- |\n",
        "| 0                 | 0           |\n",
        "| 1                 | 0.2         |\n",
        "| 2                 | 0.4         |\n",
        "| ...                 | ...        |\n",
        "| 900                 | 180        |"
      ]
    },
    {
      "cell_type": "code",
      "metadata": {
        "id": "vLLCB35Pg77W"
      },
      "source": [
        "#Parametros para configurar el tiempo de muestreo en la simulacion asi como los intervalos en los que se realiza.\n",
        "\n",
        "tf = 180           # Tiempo de simulacion en segundos (s)\n",
        "ts = 0.2           # Periodo de muestreo en segundos (s)\n",
        "N = int(180/0.2) #El numero total de muestras\n",
        "t = np.linspace(0, tf, N)      # Vector de tiempo 0, 0.2, 0.4..."
      ],
      "execution_count": 5,
      "outputs": []
    },
    {
      "cell_type": "markdown",
      "metadata": {
        "id": "tv8vqGLSlQ6e"
      },
      "source": [
        "### Simulacion"
      ]
    },
    {
      "cell_type": "code",
      "metadata": {
        "id": "xLwmI4jsjh0P"
      },
      "source": [
        "#Posiciones\n",
        "#Inicializar variables de muestreo (valores iniciales).\n",
        "x = [0]     # posicion inicial (x axis) in m\n",
        "y = [0]   # posicion inicial (y axis) in m\n",
        "phi = [0];  # orientacion inicial in rad\n",
        "\n",
        "#Velocidades\n",
        "#Velocidad Lineal de la rueda Derecha.\n",
        "v1_scalar = 0.1;    # m/s\n",
        "v1 = v1_scalar * np.ones(N)\n",
        "#Velocidad Lineal de la rueda Izquierda. \n",
        "v2_scalar = -0.2    # m/s\n",
        "v2 = v2_scalar * np.ones(N)\n",
        "\n",
        "xp = []\n",
        "yp = []\n",
        "theta = []\n",
        "\n",
        "\n",
        "for k in  range(N - 1):\n",
        "\n",
        "    #Vector de Posiciones X1 : >>>>>>>>>>>>>>>>>>>>>>>>>>>>>>>>>>>>>>>>>>>>>>>>>\n",
        "    positions_array = [[x[k]],[y[k]],[phi[k]]]\n",
        "    X1 = np.array(positions_array)\n",
        "\n",
        "    #Vector velocidades X2 en el instante de tiempo k-esimo.>>>>>>>>>>>>>>>>>>>>>>>>>>\n",
        "    x_21 = v1[k]\n",
        "    x_22 = v2[k]\n",
        "    velocity_array = [[x_21],[x_22]]\n",
        "    #Vector de las velocidades x2 :\n",
        "    #v1 = Velocidad angular izquierda, \n",
        "    #v2 = Velocidad angular derecha.\n",
        "    X2 = np.array(velocity_array)\n",
        "\n",
        "    #Matriz Jacobiana J(x1)\n",
        "    J_x1 = 0.5 * r * np.array([[math.cos(phi[k]), math.cos(phi[k])], [math.sin(phi[k]), math.sin(phi[k])],  [1/R, -1/R]])\n",
        "    \n",
        "    #Ecuacion de sub sistema 1. (Modelo cinematico)\n",
        "    EQ = np.dot(J_x1,X2)\n",
        "    xp.append(EQ[0])     #Fila 1 posicion en X.\n",
        "    yp.append(EQ[1])     #Fila 2 posicion en Y.\n",
        "    theta.append(EQ[2])  # Fila 3 rotacion angulo theta.\n",
        "\n",
        "    \"\"\"\n",
        "    Integral numerica (Metodo Euler)\n",
        "    A continuacion se realizan las iteraciones por el metodo de Euler para\n",
        "    obtener la posicion en el siguiente instante de tiempo.\n",
        "    Esto se fundamenta dado que la matriz jacobiana por el vector de\n",
        "    velocidad representan la ecuacion cinematica.\n",
        "    En resumen al integrar la velocidad podemos encontrar la posicion.\n",
        "    \"\"\"\n",
        "    x.append(x[k]+ts*EQ[0])\n",
        "    y.append(y[k]+ts*EQ[1])\n",
        "    phi.append(phi[k]+ts*EQ[2])\n"
      ],
      "execution_count": 6,
      "outputs": []
    },
    {
      "cell_type": "code",
      "metadata": {
        "colab": {
          "base_uri": "https://localhost:8080/",
          "height": 736
        },
        "id": "hhfFwPRkP3KZ",
        "outputId": "49b2a2f1-412f-4da9-c45b-d4b437082860"
      },
      "source": [
        "# Inicializamos la grafica\n",
        "dim_img = 10\n",
        "plt.rcParams[\"figure.figsize\"] = (dim_img,dim_img)\n",
        "figure, axis = plt.subplots(2, 2)\n",
        "  \n",
        "# Para la grafica de la posicion X\n",
        "axis[0, 0].plot(t,x)\n",
        "axis[0, 0].set_title(\"Position X\")\n",
        "  \n",
        "# Para la grafica de la posicion Y\n",
        "axis[0, 1].plot(t, y)\n",
        "axis[0, 1].set_title(\"Position Y\")\n",
        "  \n",
        "# Para la grafica de la posicion Phi\n",
        "axis[1, 0].plot(t, phi)\n",
        "axis[1, 0].set_title(\"Position Angle\")\n",
        "  \n",
        "# Para la grafica de la posicion XY del robot\n",
        "axis[1, 1].plot(x, y)\n",
        "axis[1, 1].set_title(\"Position Robot in XY\")\n",
        "  \n",
        "# Combine all the operations and display\n",
        "plt.show()"
      ],
      "execution_count": 8,
      "outputs": [
        {
          "output_type": "stream",
          "text": [
            "/usr/local/lib/python3.7/dist-packages/numpy/core/_asarray.py:136: VisibleDeprecationWarning: Creating an ndarray from ragged nested sequences (which is a list-or-tuple of lists-or-tuples-or ndarrays with different lengths or shapes) is deprecated. If you meant to do this, you must specify 'dtype=object' when creating the ndarray\n",
            "  return array(a, dtype, copy=False, order=order, subok=True)\n",
            "/usr/local/lib/python3.7/dist-packages/numpy/core/_asarray.py:136: VisibleDeprecationWarning: Creating an ndarray from ragged nested sequences (which is a list-or-tuple of lists-or-tuples-or ndarrays with different lengths or shapes) is deprecated. If you meant to do this, you must specify 'dtype=object' when creating the ndarray\n",
            "  return array(a, dtype, copy=False, order=order, subok=True)\n",
            "/usr/local/lib/python3.7/dist-packages/numpy/core/_asarray.py:136: VisibleDeprecationWarning: Creating an ndarray from ragged nested sequences (which is a list-or-tuple of lists-or-tuples-or ndarrays with different lengths or shapes) is deprecated. If you meant to do this, you must specify 'dtype=object' when creating the ndarray\n",
            "  return array(a, dtype, copy=False, order=order, subok=True)\n"
          ],
          "name": "stderr"
        },
        {
          "output_type": "display_data",
          "data": {
            "image/png": "[encoded data removed]",
            "text/plain": [
              "<Figure size 720x720 with 4 Axes>"
            ]
          },
          "metadata": {
            "tags": [],
            "needs_background": "light"
          }
        }
      ]
    }
  ]
}